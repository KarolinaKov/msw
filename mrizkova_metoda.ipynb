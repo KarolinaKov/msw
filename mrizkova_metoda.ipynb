{
 "cells": [
  {
   "cell_type": "markdown",
   "id": "ffb56ccb",
   "metadata": {},
   "source": [
    "Modelování pastvy pomocí mřížkové metody"
   ]
  },
  {
   "cell_type": "code",
   "execution_count": null,
   "id": "9ed875c7",
   "metadata": {
    "vscode": {
     "languageId": "plaintext"
    }
   },
   "outputs": [],
   "source": [
    "import numpy as np\n",
    "import random\n",
    "import matplotlib.pyplot as plt\n",
    "\n",
    "velikost_mrizky = 20\n",
    "pocet_koz = 30\n",
    "dny = 60\n",
    "\n",
    "# Stav pastviny: každá buňka má stav trávy (0–100 %)\n",
    "pastva = np.full((velikost_mrizky, velikost_mrizky), 100.0)\n",
    "\n",
    "\n",
    "souradnice_koz = [[random.randint(0, velikost_mrizky-1), random.randint(0, velikost_mrizky-1)] for _ in range(pocet_koz)]\n",
    "\n",
    "def krok(pos):\n",
    "    x, y = pos\n",
    "    dx, dy = random.choice([(0,1), (0,-1), (1,0), (-1,0), (0,0)])\n",
    "    x_new = max(0, min(velikost_mrizky-1, x+dx))\n",
    "    y_new = max(0, min(velikost_mrizky-1, y+dy))\n",
    "    return [x_new, y_new]\n",
    "\n",
    "for den in range(1, dny+1):\n",
    "    koza_nove = []\n",
    "    for koza in souradnice_koz:\n",
    "        koza = krok(koza)\n",
    "        x, y = koza\n",
    "        if pastva[x, y] < 5:\n",
    "            koza = krok(koza)\n",
    "            x, y = koza\n",
    "        pastva[x, y] = max(0, pastva[x, y] - 10)\n",
    "        koza_nove.append(koza)\n",
    "    souradnice_koz = koza_nove\n",
    "\n",
    "    pastva = np.minimum(pastva + 1, 100)\n",
    "\n",
    "    znehodnocene_bunky = (pastva < 10).sum()\n",
    "\n",
    "    if den % 10 == 0 or den == dny:\n",
    "        print(f\"Den {den}: přepásaných políček: {znehodnocene_bunky}\")\n",
    "        plt.imshow(pastva, cmap='YlGn', vmin=0, vmax=100)\n",
    "        plt.title(f\"Stav trávy – den {den}\")\n",
    "        plt.colorbar(label='Tráva (%)')\n",
    "        plt.show()"
   ]
  }
 ],
 "metadata": {
  "language_info": {
   "name": "python"
  }
 },
 "nbformat": 4,
 "nbformat_minor": 5
}
